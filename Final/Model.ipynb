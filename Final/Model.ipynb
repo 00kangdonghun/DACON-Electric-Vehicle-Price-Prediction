{
 "cells": [
  {
   "cell_type": "markdown",
   "metadata": {},
   "source": [
    "## Model 학습"
   ]
  },
  {
   "cell_type": "code",
   "execution_count": 36,
   "metadata": {},
   "outputs": [],
   "source": [
    "import pandas as pd\n",
    "import numpy as np\n",
    "import xgboost as xgb\n",
    "import optuna\n",
    "from sklearn.model_selection import train_test_split\n",
    "from sklearn.metrics import mean_squared_error"
   ]
  },
  {
   "cell_type": "code",
   "execution_count": 37,
   "metadata": {},
   "outputs": [],
   "source": [
    "# 📌 1. 데이터 로드\n",
    "train = pd.read_csv(\"processed_train.csv\")\n",
    "test = pd.read_csv(\"processed_test.csv\")\n",
    "\n",
    "# 📌 2. Feature & Target 분리\n",
    "X = train.drop(columns=[\"ID\", \"가격(백만원)\"])  # 입력 변수\n",
    "y = train[\"가격(백만원)\"]  # 타겟 변수\n",
    "\n",
    "# 📌 3. Train/Validation 데이터 분할 (8:2 비율)\n",
    "X_train, X_valid, y_train, y_valid = train_test_split(X, y, test_size=0.2, random_state=42)\n"
   ]
  },
  {
   "cell_type": "code",
   "execution_count": 38,
   "metadata": {},
   "outputs": [],
   "source": [
    "# 📌 4. Optuna를 활용한 하이퍼파라미터 튜닝\n",
    "def objective(trial):\n",
    "    params = {\n",
    "        \"n_estimators\": trial.suggest_int(\"n_estimators\", 100, 1000, step=50),\n",
    "        \"max_depth\": trial.suggest_int(\"max_depth\", 3, 15),\n",
    "        \"learning_rate\": trial.suggest_float(\"learning_rate\", 0.01, 0.3, log=True),\n",
    "        \"subsample\": trial.suggest_float(\"subsample\", 0.5, 1.0),\n",
    "        \"colsample_bytree\": trial.suggest_float(\"colsample_bytree\", 0.5, 1.0),\n",
    "        \"reg_lambda\": trial.suggest_float(\"reg_lambda\", 0.1, 10.0),\n",
    "        \"reg_alpha\": trial.suggest_float(\"reg_alpha\", 0.1, 10.0),\n",
    "        \"objective\": \"reg:squarederror\",  # 회귀 문제를 위한 설정\n",
    "        \"eval_metric\": \"rmse\",  # RMSE를 평가 지표로 설정\n",
    "        \"random_state\": 42\n",
    "    }\n",
    "    \n",
    "    model = xgb.XGBRegressor(**params)\n",
    "\n",
    "    # 📌 `early_stopping` 없이 모델 학습\n",
    "    model.fit(X_train, y_train)\n",
    "    \n",
    "    y_pred = model.predict(X_valid)\n",
    "    rmse = np.sqrt(mean_squared_error(y_valid, y_pred))\n",
    "    \n",
    "    return rmse"
   ]
  },
  {
   "cell_type": "code",
   "execution_count": 39,
   "metadata": {},
   "outputs": [
    {
     "name": "stderr",
     "output_type": "stream",
     "text": [
      "[I 2025-01-31 15:16:52,217] A new study created in memory with name: no-name-538bc379-dbbe-4cf9-9aee-a0cb32ae1839\n",
      "[I 2025-01-31 15:16:54,569] Trial 0 finished with value: 1.681689089508803 and parameters: {'n_estimators': 750, 'max_depth': 15, 'learning_rate': 0.01911905950563548, 'subsample': 0.798604446860558, 'colsample_bytree': 0.5387701922409799, 'reg_lambda': 7.3292402051526615, 'reg_alpha': 6.048731707950487}. Best is trial 0 with value: 1.681689089508803.\n",
      "[I 2025-01-31 15:16:54,722] Trial 1 finished with value: 10.355702591784665 and parameters: {'n_estimators': 100, 'max_depth': 6, 'learning_rate': 0.012940236345443546, 'subsample': 0.9442519861094846, 'colsample_bytree': 0.9230802344028752, 'reg_lambda': 0.16798749926694265, 'reg_alpha': 5.9595299663481125}. Best is trial 0 with value: 1.681689089508803.\n",
      "[I 2025-01-31 15:16:55,544] Trial 2 finished with value: 1.6164462712371774 and parameters: {'n_estimators': 750, 'max_depth': 5, 'learning_rate': 0.012917975841499632, 'subsample': 0.6721960999381271, 'colsample_bytree': 0.7695365694964869, 'reg_lambda': 1.4042643603323433, 'reg_alpha': 3.9488237861419404}. Best is trial 2 with value: 1.6164462712371774.\n",
      "[I 2025-01-31 15:16:56,233] Trial 3 finished with value: 2.241155731273166 and parameters: {'n_estimators': 600, 'max_depth': 5, 'learning_rate': 0.010700374166246512, 'subsample': 0.6794792076081477, 'colsample_bytree': 0.5560911010887575, 'reg_lambda': 5.691160343741625, 'reg_alpha': 6.5233651971297455}. Best is trial 2 with value: 1.6164462712371774.\n",
      "[I 2025-01-31 15:16:56,337] Trial 4 finished with value: 4.268922029323615 and parameters: {'n_estimators': 100, 'max_depth': 3, 'learning_rate': 0.08488514465493213, 'subsample': 0.855449925056062, 'colsample_bytree': 0.8448202689429765, 'reg_lambda': 7.229796939056129, 'reg_alpha': 4.129505617615508}. Best is trial 2 with value: 1.6164462712371774.\n",
      "[I 2025-01-31 15:16:56,469] Trial 5 finished with value: 9.062895846775575 and parameters: {'n_estimators': 150, 'max_depth': 3, 'learning_rate': 0.014928044683361756, 'subsample': 0.730499526697995, 'colsample_bytree': 0.8698525588054677, 'reg_lambda': 0.4662604968174887, 'reg_alpha': 9.281240530769624}. Best is trial 2 with value: 1.6164462712371774.\n",
      "[I 2025-01-31 15:16:57,718] Trial 6 finished with value: 1.491758430739973 and parameters: {'n_estimators': 550, 'max_depth': 12, 'learning_rate': 0.11429484336103855, 'subsample': 0.7789333082314032, 'colsample_bytree': 0.699162217020777, 'reg_lambda': 6.915135080660295, 'reg_alpha': 8.453224829945333}. Best is trial 6 with value: 1.491758430739973.\n",
      "[I 2025-01-31 15:16:58,179] Trial 7 finished with value: 1.4616549088017197 and parameters: {'n_estimators': 300, 'max_depth': 6, 'learning_rate': 0.14791996087946488, 'subsample': 0.8955831145249809, 'colsample_bytree': 0.6871393400346482, 'reg_lambda': 5.613198644934719, 'reg_alpha': 3.8522002313302974}. Best is trial 7 with value: 1.4616549088017197.\n",
      "[I 2025-01-31 15:17:00,398] Trial 8 finished with value: 1.5578874228683672 and parameters: {'n_estimators': 1000, 'max_depth': 9, 'learning_rate': 0.11169018210955035, 'subsample': 0.8713260025779971, 'colsample_bytree': 0.8867663735655862, 'reg_lambda': 8.577198025048942, 'reg_alpha': 3.129852680061038}. Best is trial 7 with value: 1.4616549088017197.\n",
      "[I 2025-01-31 15:17:00,967] Trial 9 finished with value: 1.8171345321570198 and parameters: {'n_estimators': 700, 'max_depth': 3, 'learning_rate': 0.05181030233017228, 'subsample': 0.7754386485370861, 'colsample_bytree': 0.993498250486349, 'reg_lambda': 3.9212927991870754, 'reg_alpha': 1.0476061392589224}. Best is trial 7 with value: 1.4616549088017197.\n",
      "[I 2025-01-31 15:17:01,780] Trial 10 finished with value: 1.6953310657224492 and parameters: {'n_estimators': 350, 'max_depth': 9, 'learning_rate': 0.29902151223345563, 'subsample': 0.998408947430391, 'colsample_bytree': 0.6576205293101572, 'reg_lambda': 3.2847939802710773, 'reg_alpha': 0.4825312082218822}. Best is trial 7 with value: 1.4616549088017197.\n",
      "[I 2025-01-31 15:17:02,670] Trial 11 finished with value: 1.5259577857378603 and parameters: {'n_estimators': 400, 'max_depth': 14, 'learning_rate': 0.20911769181227788, 'subsample': 0.5115225424536944, 'colsample_bytree': 0.6792551073814844, 'reg_lambda': 5.590716007513197, 'reg_alpha': 9.941759106329354}. Best is trial 7 with value: 1.4616549088017197.\n",
      "[I 2025-01-31 15:17:03,591] Trial 12 finished with value: 1.4806559856300703 and parameters: {'n_estimators': 400, 'max_depth': 12, 'learning_rate': 0.13859526251009874, 'subsample': 0.8858631621666974, 'colsample_bytree': 0.6840640203261149, 'reg_lambda': 9.94887747568633, 'reg_alpha': 8.173922638899956}. Best is trial 7 with value: 1.4616549088017197.\n",
      "[I 2025-01-31 15:17:04,309] Trial 13 finished with value: 1.5086200475411795 and parameters: {'n_estimators': 300, 'max_depth': 11, 'learning_rate': 0.04061755643540612, 'subsample': 0.9015905071550365, 'colsample_bytree': 0.6131840847933357, 'reg_lambda': 9.484180184053034, 'reg_alpha': 7.568001775920731}. Best is trial 7 with value: 1.4616549088017197.\n",
      "[I 2025-01-31 15:17:05,037] Trial 14 finished with value: 1.4809105636578557 and parameters: {'n_estimators': 450, 'max_depth': 7, 'learning_rate': 0.16705546782764524, 'subsample': 0.9937775620649183, 'colsample_bytree': 0.7680435861729743, 'reg_lambda': 9.957818778002556, 'reg_alpha': 1.954179736050233}. Best is trial 7 with value: 1.4616549088017197.\n",
      "[I 2025-01-31 15:17:05,657] Trial 15 finished with value: 1.5178851338317874 and parameters: {'n_estimators': 250, 'max_depth': 11, 'learning_rate': 0.03334159222069151, 'subsample': 0.8385356955769735, 'colsample_bytree': 0.602802909901037, 'reg_lambda': 3.477649990734443, 'reg_alpha': 4.898710395363477}. Best is trial 7 with value: 1.4616549088017197.\n",
      "[I 2025-01-31 15:17:06,944] Trial 16 finished with value: 1.4556756532730135 and parameters: {'n_estimators': 500, 'max_depth': 13, 'learning_rate': 0.07962797447019977, 'subsample': 0.9261411447251792, 'colsample_bytree': 0.7209373848311924, 'reg_lambda': 8.405833733195307, 'reg_alpha': 7.4481294267385385}. Best is trial 16 with value: 1.4556756532730135.\n",
      "[I 2025-01-31 15:17:07,986] Trial 17 finished with value: 1.4540183498853487 and parameters: {'n_estimators': 550, 'max_depth': 8, 'learning_rate': 0.07201665211510619, 'subsample': 0.9487860059190791, 'colsample_bytree': 0.807866256969679, 'reg_lambda': 8.316468473869326, 'reg_alpha': 6.882698503016198}. Best is trial 17 with value: 1.4540183498853487.\n",
      "[I 2025-01-31 15:17:10,201] Trial 18 finished with value: 1.5065533354420495 and parameters: {'n_estimators': 950, 'max_depth': 13, 'learning_rate': 0.08145282486194654, 'subsample': 0.5796391615981111, 'colsample_bytree': 0.7948573889116215, 'reg_lambda': 8.302875904413218, 'reg_alpha': 6.93224335200588}. Best is trial 17 with value: 1.4540183498853487.\n",
      "[I 2025-01-31 15:17:11,617] Trial 19 finished with value: 1.4219402825924636 and parameters: {'n_estimators': 650, 'max_depth': 8, 'learning_rate': 0.030005007087766173, 'subsample': 0.9447463351957752, 'colsample_bytree': 0.8235021275208306, 'reg_lambda': 8.40651695048938, 'reg_alpha': 5.233497810389003}. Best is trial 19 with value: 1.4219402825924636.\n",
      "[I 2025-01-31 15:17:13,398] Trial 20 finished with value: 1.4370838799900458 and parameters: {'n_estimators': 850, 'max_depth': 9, 'learning_rate': 0.025051541617814005, 'subsample': 0.9588949881274043, 'colsample_bytree': 0.8158656452716642, 'reg_lambda': 6.5154705359775615, 'reg_alpha': 5.209408292977189}. Best is trial 19 with value: 1.4219402825924636.\n",
      "[I 2025-01-31 15:17:15,253] Trial 21 finished with value: 1.4444142001240166 and parameters: {'n_estimators': 900, 'max_depth': 9, 'learning_rate': 0.02687178076402069, 'subsample': 0.9564389106911599, 'colsample_bytree': 0.813361613781708, 'reg_lambda': 6.611325610630036, 'reg_alpha': 5.606666178960951}. Best is trial 19 with value: 1.4219402825924636.\n",
      "[I 2025-01-31 15:17:17,499] Trial 22 finished with value: 1.4478482801657346 and parameters: {'n_estimators': 900, 'max_depth': 10, 'learning_rate': 0.02381771594283277, 'subsample': 0.9661820732390256, 'colsample_bytree': 0.8236836025211444, 'reg_lambda': 6.481528368992207, 'reg_alpha': 5.170217696841713}. Best is trial 19 with value: 1.4219402825924636.\n",
      "[I 2025-01-31 15:17:19,042] Trial 23 finished with value: 1.4498405236023697 and parameters: {'n_estimators': 850, 'max_depth': 8, 'learning_rate': 0.026865134309608588, 'subsample': 0.8294533592139813, 'colsample_bytree': 0.9346411626489497, 'reg_lambda': 4.414378278397994, 'reg_alpha': 5.265657273993789}. Best is trial 19 with value: 1.4219402825924636.\n",
      "[I 2025-01-31 15:17:21,670] Trial 24 finished with value: 1.4758548946695602 and parameters: {'n_estimators': 850, 'max_depth': 9, 'learning_rate': 0.03908684723060457, 'subsample': 0.931283105003572, 'colsample_bytree': 0.7366825785997193, 'reg_lambda': 6.456857182773425, 'reg_alpha': 2.7198053405958564}. Best is trial 19 with value: 1.4219402825924636.\n",
      "[I 2025-01-31 15:17:24,250] Trial 25 finished with value: 1.444999021701248 and parameters: {'n_estimators': 700, 'max_depth': 10, 'learning_rate': 0.020394106217084613, 'subsample': 0.9790921509258963, 'colsample_bytree': 0.9234897201191854, 'reg_lambda': 7.613392349243497, 'reg_alpha': 4.484515374425382}. Best is trial 19 with value: 1.4219402825924636.\n",
      "[I 2025-01-31 15:17:26,579] Trial 26 finished with value: 1.4330216538881937 and parameters: {'n_estimators': 800, 'max_depth': 8, 'learning_rate': 0.030243524183047345, 'subsample': 0.9281414736352532, 'colsample_bytree': 0.8611486394129456, 'reg_lambda': 4.998491787352553, 'reg_alpha': 5.359249400754511}. Best is trial 19 with value: 1.4219402825924636.\n",
      "[I 2025-01-31 15:17:28,427] Trial 27 finished with value: 1.4603518915301472 and parameters: {'n_estimators': 650, 'max_depth': 7, 'learning_rate': 0.05495976347429275, 'subsample': 0.9174048828761887, 'colsample_bytree': 0.871336705930825, 'reg_lambda': 4.584100234380784, 'reg_alpha': 3.060836307636014}. Best is trial 19 with value: 1.4219402825924636.\n",
      "[I 2025-01-31 15:17:30,493] Trial 28 finished with value: 1.4653801358830045 and parameters: {'n_estimators': 800, 'max_depth': 7, 'learning_rate': 0.03246337590077937, 'subsample': 0.7124189839313462, 'colsample_bytree': 0.9771757692045335, 'reg_lambda': 2.4715388349743157, 'reg_alpha': 4.702594255543147}. Best is trial 19 with value: 1.4219402825924636.\n",
      "[I 2025-01-31 15:17:32,675] Trial 29 finished with value: 1.4033061352674312 and parameters: {'n_estimators': 750, 'max_depth': 8, 'learning_rate': 0.018860104948008546, 'subsample': 0.8376120157293532, 'colsample_bytree': 0.8496722701475468, 'reg_lambda': 7.707175013795221, 'reg_alpha': 6.27960219205632}. Best is trial 29 with value: 1.4033061352674312.\n"
     ]
    },
    {
     "name": "stdout",
     "output_type": "stream",
     "text": [
      "✅ Best Hyperparameters: {'n_estimators': 750, 'max_depth': 8, 'learning_rate': 0.018860104948008546, 'subsample': 0.8376120157293532, 'colsample_bytree': 0.8496722701475468, 'reg_lambda': 7.707175013795221, 'reg_alpha': 6.27960219205632}\n"
     ]
    }
   ],
   "source": [
    "# 📌 5. Optuna 실행 (최적의 하이퍼파라미터 찾기)\n",
    "study = optuna.create_study(direction=\"minimize\")\n",
    "study.optimize(objective, n_trials=30)  # 30번의 탐색 진행\n",
    "\n",
    "# 최적의 하이퍼파라미터 출력\n",
    "best_params = study.best_params\n",
    "print(\"✅ Best Hyperparameters:\", best_params)"
   ]
  },
  {
   "cell_type": "code",
   "execution_count": 40,
   "metadata": {},
   "outputs": [
    {
     "data": {
      "text/html": [
       "<style>#sk-container-id-2 {color: black;}#sk-container-id-2 pre{padding: 0;}#sk-container-id-2 div.sk-toggleable {background-color: white;}#sk-container-id-2 label.sk-toggleable__label {cursor: pointer;display: block;width: 100%;margin-bottom: 0;padding: 0.3em;box-sizing: border-box;text-align: center;}#sk-container-id-2 label.sk-toggleable__label-arrow:before {content: \"▸\";float: left;margin-right: 0.25em;color: #696969;}#sk-container-id-2 label.sk-toggleable__label-arrow:hover:before {color: black;}#sk-container-id-2 div.sk-estimator:hover label.sk-toggleable__label-arrow:before {color: black;}#sk-container-id-2 div.sk-toggleable__content {max-height: 0;max-width: 0;overflow: hidden;text-align: left;background-color: #f0f8ff;}#sk-container-id-2 div.sk-toggleable__content pre {margin: 0.2em;color: black;border-radius: 0.25em;background-color: #f0f8ff;}#sk-container-id-2 input.sk-toggleable__control:checked~div.sk-toggleable__content {max-height: 200px;max-width: 100%;overflow: auto;}#sk-container-id-2 input.sk-toggleable__control:checked~label.sk-toggleable__label-arrow:before {content: \"▾\";}#sk-container-id-2 div.sk-estimator input.sk-toggleable__control:checked~label.sk-toggleable__label {background-color: #d4ebff;}#sk-container-id-2 div.sk-label input.sk-toggleable__control:checked~label.sk-toggleable__label {background-color: #d4ebff;}#sk-container-id-2 input.sk-hidden--visually {border: 0;clip: rect(1px 1px 1px 1px);clip: rect(1px, 1px, 1px, 1px);height: 1px;margin: -1px;overflow: hidden;padding: 0;position: absolute;width: 1px;}#sk-container-id-2 div.sk-estimator {font-family: monospace;background-color: #f0f8ff;border: 1px dotted black;border-radius: 0.25em;box-sizing: border-box;margin-bottom: 0.5em;}#sk-container-id-2 div.sk-estimator:hover {background-color: #d4ebff;}#sk-container-id-2 div.sk-parallel-item::after {content: \"\";width: 100%;border-bottom: 1px solid gray;flex-grow: 1;}#sk-container-id-2 div.sk-label:hover label.sk-toggleable__label {background-color: #d4ebff;}#sk-container-id-2 div.sk-serial::before {content: \"\";position: absolute;border-left: 1px solid gray;box-sizing: border-box;top: 0;bottom: 0;left: 50%;z-index: 0;}#sk-container-id-2 div.sk-serial {display: flex;flex-direction: column;align-items: center;background-color: white;padding-right: 0.2em;padding-left: 0.2em;position: relative;}#sk-container-id-2 div.sk-item {position: relative;z-index: 1;}#sk-container-id-2 div.sk-parallel {display: flex;align-items: stretch;justify-content: center;background-color: white;position: relative;}#sk-container-id-2 div.sk-item::before, #sk-container-id-2 div.sk-parallel-item::before {content: \"\";position: absolute;border-left: 1px solid gray;box-sizing: border-box;top: 0;bottom: 0;left: 50%;z-index: -1;}#sk-container-id-2 div.sk-parallel-item {display: flex;flex-direction: column;z-index: 1;position: relative;background-color: white;}#sk-container-id-2 div.sk-parallel-item:first-child::after {align-self: flex-end;width: 50%;}#sk-container-id-2 div.sk-parallel-item:last-child::after {align-self: flex-start;width: 50%;}#sk-container-id-2 div.sk-parallel-item:only-child::after {width: 0;}#sk-container-id-2 div.sk-dashed-wrapped {border: 1px dashed gray;margin: 0 0.4em 0.5em 0.4em;box-sizing: border-box;padding-bottom: 0.4em;background-color: white;}#sk-container-id-2 div.sk-label label {font-family: monospace;font-weight: bold;display: inline-block;line-height: 1.2em;}#sk-container-id-2 div.sk-label-container {text-align: center;}#sk-container-id-2 div.sk-container {/* jupyter's `normalize.less` sets `[hidden] { display: none; }` but bootstrap.min.css set `[hidden] { display: none !important; }` so we also need the `!important` here to be able to override the default hidden behavior on the sphinx rendered scikit-learn.org. See: https://github.com/scikit-learn/scikit-learn/issues/21755 */display: inline-block !important;position: relative;}#sk-container-id-2 div.sk-text-repr-fallback {display: none;}</style><div id=\"sk-container-id-2\" class=\"sk-top-container\"><div class=\"sk-text-repr-fallback\"><pre>XGBRegressor(base_score=None, booster=None, callbacks=None,\n",
       "             colsample_bylevel=None, colsample_bynode=None,\n",
       "             colsample_bytree=0.8496722701475468, device=None,\n",
       "             early_stopping_rounds=None, enable_categorical=False,\n",
       "             eval_metric=None, feature_types=None, gamma=None, grow_policy=None,\n",
       "             importance_type=None, interaction_constraints=None,\n",
       "             learning_rate=0.018860104948008546, max_bin=None,\n",
       "             max_cat_threshold=None, max_cat_to_onehot=None,\n",
       "             max_delta_step=None, max_depth=8, max_leaves=None,\n",
       "             min_child_weight=None, missing=nan, monotone_constraints=None,\n",
       "             multi_strategy=None, n_estimators=750, n_jobs=None,\n",
       "             num_parallel_tree=None, random_state=42, ...)</pre><b>In a Jupyter environment, please rerun this cell to show the HTML representation or trust the notebook. <br />On GitHub, the HTML representation is unable to render, please try loading this page with nbviewer.org.</b></div><div class=\"sk-container\" hidden><div class=\"sk-item\"><div class=\"sk-estimator sk-toggleable\"><input class=\"sk-toggleable__control sk-hidden--visually\" id=\"sk-estimator-id-2\" type=\"checkbox\" checked><label for=\"sk-estimator-id-2\" class=\"sk-toggleable__label sk-toggleable__label-arrow\">XGBRegressor</label><div class=\"sk-toggleable__content\"><pre>XGBRegressor(base_score=None, booster=None, callbacks=None,\n",
       "             colsample_bylevel=None, colsample_bynode=None,\n",
       "             colsample_bytree=0.8496722701475468, device=None,\n",
       "             early_stopping_rounds=None, enable_categorical=False,\n",
       "             eval_metric=None, feature_types=None, gamma=None, grow_policy=None,\n",
       "             importance_type=None, interaction_constraints=None,\n",
       "             learning_rate=0.018860104948008546, max_bin=None,\n",
       "             max_cat_threshold=None, max_cat_to_onehot=None,\n",
       "             max_delta_step=None, max_depth=8, max_leaves=None,\n",
       "             min_child_weight=None, missing=nan, monotone_constraints=None,\n",
       "             multi_strategy=None, n_estimators=750, n_jobs=None,\n",
       "             num_parallel_tree=None, random_state=42, ...)</pre></div></div></div></div></div>"
      ],
      "text/plain": [
       "XGBRegressor(base_score=None, booster=None, callbacks=None,\n",
       "             colsample_bylevel=None, colsample_bynode=None,\n",
       "             colsample_bytree=0.8496722701475468, device=None,\n",
       "             early_stopping_rounds=None, enable_categorical=False,\n",
       "             eval_metric=None, feature_types=None, gamma=None, grow_policy=None,\n",
       "             importance_type=None, interaction_constraints=None,\n",
       "             learning_rate=0.018860104948008546, max_bin=None,\n",
       "             max_cat_threshold=None, max_cat_to_onehot=None,\n",
       "             max_delta_step=None, max_depth=8, max_leaves=None,\n",
       "             min_child_weight=None, missing=nan, monotone_constraints=None,\n",
       "             multi_strategy=None, n_estimators=750, n_jobs=None,\n",
       "             num_parallel_tree=None, random_state=42, ...)"
      ]
     },
     "execution_count": 40,
     "metadata": {},
     "output_type": "execute_result"
    }
   ],
   "source": [
    "# 📌 6. 최적의 XGBoost 모델 학습\n",
    "best_model = xgb.XGBRegressor(**best_params, random_state=42)\n",
    "best_model.fit(X_train, y_train)"
   ]
  },
  {
   "cell_type": "code",
   "execution_count": 41,
   "metadata": {},
   "outputs": [
    {
     "name": "stdout",
     "output_type": "stream",
     "text": [
      "✅ 최적화된 XGBoost Validation RMSE: 1.4033061352674312\n"
     ]
    }
   ],
   "source": [
    "# 📌 7. 검증 데이터 예측 및 성능 평가\n",
    "y_pred = best_model.predict(X_valid)\n",
    "rmse = np.sqrt(mean_squared_error(y_valid, y_pred))\n",
    "print(\"✅ 최적화된 XGBoost Validation RMSE:\", rmse)"
   ]
  },
  {
   "cell_type": "code",
   "execution_count": 42,
   "metadata": {},
   "outputs": [],
   "source": [
    "# 📌 8. 테스트 데이터 예측\n",
    "test_features = test.drop(columns=[\"ID\"])\n",
    "test_predictions = best_model.predict(test_features)"
   ]
  },
  {
   "cell_type": "code",
   "execution_count": 43,
   "metadata": {},
   "outputs": [
    {
     "name": "stdout",
     "output_type": "stream",
     "text": [
      "✅ 제출 파일 생성 완료! → submission.csv\n"
     ]
    }
   ],
   "source": [
    "# 📌 9. 제출 파일 생성\n",
    "submission = pd.read_csv(\"sample_submission.csv\")\n",
    "submission[\"가격(백만원)\"] = test_predictions\n",
    "\n",
    "# 제출 파일 저장\n",
    "submission.to_csv(\"submission.csv\", index=False)\n",
    "print(\"✅ 제출 파일 생성 완료! → submission.csv\")"
   ]
  }
 ],
 "metadata": {
  "kernelspec": {
   "display_name": "car",
   "language": "python",
   "name": "python3"
  },
  "language_info": {
   "codemirror_mode": {
    "name": "ipython",
    "version": 3
   },
   "file_extension": ".py",
   "mimetype": "text/x-python",
   "name": "python",
   "nbconvert_exporter": "python",
   "pygments_lexer": "ipython3",
   "version": "3.8.20"
  }
 },
 "nbformat": 4,
 "nbformat_minor": 2
}
